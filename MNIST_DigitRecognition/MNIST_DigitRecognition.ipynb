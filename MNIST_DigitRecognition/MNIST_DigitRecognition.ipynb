{
 "cells": [
  {
   "cell_type": "code",
   "execution_count": 2,
   "metadata": {},
   "outputs": [],
   "source": [
    "import numpy as np\n",
    "from keras.datasets import mnist\n",
    "import cv2\n",
    "import os"
   ]
  },
  {
   "cell_type": "code",
   "execution_count": 6,
   "metadata": {},
   "outputs": [],
   "source": [
    "(train_images, train_labels), (test_images, test_labels) = mnist.load_data()"
   ]
  },
  {
   "cell_type": "code",
   "execution_count": 7,
   "metadata": {},
   "outputs": [],
   "source": [
    "train_images = train_images.reshape((60000, 28 * 28))\n",
    "train_images = train_images.astype('float32') / 255"
   ]
  },
  {
   "cell_type": "code",
   "execution_count": 8,
   "metadata": {},
   "outputs": [],
   "source": [
    "test_images = test_images.reshape((10000, 28 * 28))\n",
    "test_images = test_images.astype('float32') / 255"
   ]
  },
  {
   "cell_type": "code",
   "execution_count": 4,
   "metadata": {},
   "outputs": [],
   "source": [
    "def to_one_hot(labels, num_classes=10):\n",
    "    results = np.zeros((len(labels), num_classes))\n",
    "    for i, label in enumerate(labels):\n",
    "        results[i, label] = 1.\n",
    "    return results"
   ]
  },
  {
   "cell_type": "code",
   "execution_count": 9,
   "metadata": {},
   "outputs": [],
   "source": [
    "train_labels = to_one_hot(train_labels)\n",
    "test_labels = to_one_hot(test_labels)"
   ]
  },
  {
   "cell_type": "code",
   "execution_count": 10,
   "metadata": {},
   "outputs": [],
   "source": [
    "def sigmoid(x):\n",
    "    return 1 / (1 + np.exp(-x))\n"
   ]
  },
  {
   "cell_type": "code",
   "execution_count": 11,
   "metadata": {},
   "outputs": [],
   "source": [
    "def sigmoid_derivative(x):\n",
    "    return x * (1 - x)"
   ]
  },
  {
   "cell_type": "code",
   "execution_count": 25,
   "metadata": {},
   "outputs": [],
   "source": [
    "class NeuralNetwork:\n",
    "    def __init__(self, input_size, hidden_size, output_size):\n",
    "        self.input_size = input_size\n",
    "        self.hidden_size = hidden_size\n",
    "        self.output_size = output_size\n",
    "        \n",
    "        # Initialize weights and biases\n",
    "        if os.path.exists('weights_input_hidden_file.npy'):\n",
    "            self.weights_input_hidden = np.load('weights_input_hidden_file.npy', allow_pickle=True)\n",
    "        else:\n",
    "            self.weights_input_hidden = np.random.randn(self.input_size, self.hidden_size)\n",
    "        if os.path.exists('biases_hidden_file.npy'):\n",
    "            self.bias_hidden = np.load('biases_hidden_file.npy', allow_pickle=True)\n",
    "        else:\n",
    "            self.bias_hidden = np.zeros((1, self.hidden_size))\n",
    "        \n",
    "        if os.path.exists('weights_hidden_output_file.npy'):\n",
    "            self.weights_hidden_output = np.load('weights_hidden_output_file.npy', allow_pickle=True)\n",
    "        else:\n",
    "            self.weights_hidden_output = np.random.randn(self.hidden_size, self.output_size)\n",
    "        if os.path.exists('biases_output_file.npy'):\n",
    "            self.bias_output = np.load('biases_file.npy', allow_pickle=True)['biases_output_file.npy']\n",
    "        else:\n",
    "            self.bias_output = np.zeros((1, self.output_size))\n",
    "        \n",
    "    def forward(self, x):\n",
    "        # Forward pass\n",
    "        self.hidden_input = np.dot(x, self.weights_input_hidden) + self.bias_hidden\n",
    "        self.hidden_output = sigmoid(self.hidden_input)\n",
    "        \n",
    "        self.output_input = np.dot(self.hidden_output, self.weights_hidden_output) + self.bias_output\n",
    "        self.output = sigmoid(self.output_input)\n",
    "        \n",
    "        return self.output\n",
    "    \n",
    "    def backward(self, x, y, output, learning_rate):\n",
    "        # Backpropagation\n",
    "        error = y - output\n",
    "        \n",
    "        output_delta = error * sigmoid_derivative(output)\n",
    "        hidden_error = np.dot(output_delta, self.weights_hidden_output.T)\n",
    "        hidden_delta = hidden_error * sigmoid_derivative(self.hidden_output)\n",
    "        \n",
    "        self.weights_hidden_output += learning_rate * np.dot(self.hidden_output.T, output_delta)\n",
    "        self.bias_output += learning_rate * np.sum(output_delta, axis=0, keepdims=True)\n",
    "        \n",
    "        self.weights_input_hidden += learning_rate * np.dot(x.T, hidden_delta)\n",
    "        self.bias_hidden += learning_rate * np.sum(hidden_delta, axis=0, keepdims=True)\n",
    "        \n",
    "    def train(self, x, y, epochs, learning_rate):\n",
    "        for epoch in range(epochs):\n",
    "            for i in range(len(x)):\n",
    "                # Forward pass\n",
    "                input_data = x[i:i+1]\n",
    "                target = y[i:i+1]\n",
    "                output = self.forward(input_data)\n",
    "\n",
    "                # Backward pass\n",
    "                self.backward(input_data, target, output, learning_rate)\n",
    "\n",
    "            loss = np.mean(np.square(y - self.forward(x)))\n",
    "            print(f'Epoch {epoch}: Loss = {loss}')"
   ]
  },
  {
   "cell_type": "code",
   "execution_count": 26,
   "metadata": {},
   "outputs": [],
   "source": [
    "input_size = 784  # 28*28\n",
    "hidden_size = 32\n",
    "output_size = 10"
   ]
  },
  {
   "cell_type": "code",
   "execution_count": 27,
   "metadata": {},
   "outputs": [],
   "source": [
    "nn = NeuralNetwork(input_size, hidden_size, output_size)"
   ]
  },
  {
   "cell_type": "code",
   "execution_count": 34,
   "metadata": {},
   "outputs": [
    {
     "name": "stdout",
     "output_type": "stream",
     "text": [
      "Epoch 0: Loss = 0.007967713013304277\n",
      "Epoch 1: Loss = 0.00774397379120912\n",
      "Epoch 2: Loss = 0.007530709059054499\n",
      "Epoch 3: Loss = 0.0073149870951821575\n",
      "Epoch 4: Loss = 0.007122371445736211\n",
      "Epoch 5: Loss = 0.006962085726236378\n",
      "Epoch 6: Loss = 0.006828367396930622\n",
      "Epoch 7: Loss = 0.006708297339570922\n",
      "Epoch 8: Loss = 0.006602624094539911\n",
      "Epoch 9: Loss = 0.006504596537087725\n"
     ]
    }
   ],
   "source": [
    "nn.train(train_images, train_labels, epochs=10, learning_rate=0.1)"
   ]
  },
  {
   "cell_type": "code",
   "execution_count": 35,
   "metadata": {},
   "outputs": [
    {
     "name": "stdout",
     "output_type": "stream",
     "text": [
      "Accuracy: 94.60%\n"
     ]
    }
   ],
   "source": [
    "predictions = nn.forward(test_images)\n",
    "accuracy = np.mean(np.argmax(predictions, axis=1) == np.argmax(test_labels, axis=1)) * 100\n",
    "print(f'Accuracy: {accuracy:.2f}%')"
   ]
  },
  {
   "cell_type": "code",
   "execution_count": 30,
   "metadata": {},
   "outputs": [],
   "source": [
    "np.save('biases_hidden_file.npy', nn.bias_hidden)\n",
    "np.save('biases_output_file.npy', nn.bias_output)\n",
    "np.save('weights_input_hidden_file.npy', nn.weights_input_hidden)\n",
    "np.save('weights_hidden_output_file.npy', nn.weights_hidden_output)"
   ]
  },
  {
   "cell_type": "code",
   "execution_count": 37,
   "metadata": {},
   "outputs": [
    {
     "name": "stdout",
     "output_type": "stream",
     "text": [
      "Predict number:  0\n",
      "Predict number:  1\n",
      "Predict number:  2\n",
      "Predict number:  3\n",
      "Predict number:  4\n",
      "Predict number:  5\n",
      "Predict number:  6\n",
      "Predict number:  7\n",
      "Predict number:  8\n",
      "Predict number:  9\n"
     ]
    }
   ],
   "source": [
    "for no in range(0,10):\n",
    "    image_path = './' + str(no) + '.jpg'\n",
    "    custom_image = cv2.imread(image_path, cv2.IMREAD_GRAYSCALE)\n",
    "    custom_image_resized = cv2.resize(custom_image, (28, 28)) # Resize to 28x28\n",
    "    custom_image_normalized = custom_image_resized.reshape((1, 28 * 28)) / 255  # Reshape and normalize\n",
    "    prediction = nn.forward(custom_image_normalized)\n",
    "    predicted_number = np.argmax(prediction)\n",
    "    print(\"Predict number: \", predicted_number)"
   ]
  }
 ],
 "metadata": {
  "kernelspec": {
   "display_name": "base",
   "language": "python",
   "name": "python3"
  },
  "language_info": {
   "codemirror_mode": {
    "name": "ipython",
    "version": 3
   },
   "file_extension": ".py",
   "mimetype": "text/x-python",
   "name": "python",
   "nbconvert_exporter": "python",
   "pygments_lexer": "ipython3",
   "version": "3.11.7"
  }
 },
 "nbformat": 4,
 "nbformat_minor": 2
}
