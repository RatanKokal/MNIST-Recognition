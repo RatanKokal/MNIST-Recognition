{
 "cells": [
  {
   "cell_type": "code",
   "execution_count": 2,
   "metadata": {},
   "outputs": [],
   "source": [
    "import numpy as np\n",
    "import pandas\n",
    "import cv2\n",
    "import os\n",
    "from sklearn.model_selection import train_test_split\n",
    "from matplotlib import pyplot as plt"
   ]
  },
  {
   "cell_type": "code",
   "execution_count": 2,
   "metadata": {},
   "outputs": [],
   "source": [
    "data = pandas.read_csv('A_Z Handwritten Data.csv')"
   ]
  },
  {
   "cell_type": "code",
   "execution_count": 3,
   "metadata": {},
   "outputs": [],
   "source": [
    "labels = data.iloc[:, 0].values\n",
    "images = data.iloc[:, 1:].values"
   ]
  },
  {
   "cell_type": "code",
   "execution_count": 4,
   "metadata": {},
   "outputs": [],
   "source": [
    "train_images, test_images, train_labels, test_labels = train_test_split(images, labels, test_size=0.1, random_state=42)"
   ]
  },
  {
   "cell_type": "code",
   "execution_count": 5,
   "metadata": {},
   "outputs": [],
   "source": [
    "train_images = train_images.reshape((335205, 28 * 28))\n",
    "train_images = train_images.astype('float32') / 255"
   ]
  },
  {
   "cell_type": "code",
   "execution_count": 7,
   "metadata": {},
   "outputs": [],
   "source": [
    "test_images = test_images.reshape((37245, 28 * 28))\n",
    "test_images = test_images.astype('float32') / 255"
   ]
  },
  {
   "cell_type": "code",
   "execution_count": 8,
   "metadata": {},
   "outputs": [],
   "source": [
    "def to_one_hot(labels, num_classes=26):\n",
    "    results = np.zeros((len(labels), num_classes))\n",
    "    for i, label in enumerate(labels):\n",
    "        results[i, label] = 1.\n",
    "    return results"
   ]
  },
  {
   "cell_type": "code",
   "execution_count": 9,
   "metadata": {},
   "outputs": [],
   "source": [
    "train_labels = to_one_hot(train_labels)\n",
    "test_labels = to_one_hot(test_labels)"
   ]
  },
  {
   "cell_type": "code",
   "execution_count": 10,
   "metadata": {},
   "outputs": [],
   "source": [
    "def sigmoid(x):\n",
    "    return 1 / (1 + np.exp(-x))\n"
   ]
  },
  {
   "cell_type": "code",
   "execution_count": 11,
   "metadata": {},
   "outputs": [],
   "source": [
    "def sigmoid_derivative(x):\n",
    "    return x * (1 - x)"
   ]
  },
  {
   "cell_type": "code",
   "execution_count": 16,
   "metadata": {},
   "outputs": [],
   "source": [
    "class NeuralNetwork:\n",
    "    def __init__(self, input_size, hidden_size, output_size):\n",
    "        self.input_size = input_size\n",
    "        self.hidden_size = hidden_size\n",
    "        self.output_size = output_size\n",
    "        \n",
    "        # Initialize weights and biases\n",
    "        self.weights_input_hidden = np.random.randn(self.input_size, self.hidden_size)\n",
    "        self.bias_hidden = np.zeros((1, self.hidden_size))\n",
    "        self.weights_hidden_output = np.random.randn(self.hidden_size, self.output_size)\n",
    "        self.bias_output = np.zeros((1, self.output_size))\n",
    "\n",
    "        # # For importing previously saved weights and biases\n",
    "        #\n",
    "        # if os.path.exists('weights_input_hidden_file.npy'):\n",
    "        #     self.weights_input_hidden = np.load('weights_input_hidden_file.npy', allow_pickle=True)\n",
    "        # else:\n",
    "        #     self.weights_input_hidden = np.random.randn(self.input_size, self.hidden_size)\n",
    "        # if os.path.exists('biases_hidden_file.npy'):\n",
    "        #     self.bias_hidden = np.load('biases_hidden_file.npy', allow_pickle=True)\n",
    "        # else:\n",
    "        #     self.bias_hidden = np.zeros((1, self.hidden_size))\n",
    "        \n",
    "        # if os.path.exists('weights_hidden_output_file.npy'):\n",
    "        #     self.weights_hidden_output = np.load('weights_hidden_output_file.npy', allow_pickle=True)\n",
    "        # else:\n",
    "        #     self.weights_hidden_output = np.random.randn(self.hidden_size, self.output_size)\n",
    "        # if os.path.exists('biases_output_file.npy'):\n",
    "        #     self.bias_output = np.load('biases_output_file.npy', allow_pickle=True)\n",
    "        # else:\n",
    "        #     self.bias_output = np.zeros((1, self.output_size))\n",
    "\n",
    "        # Accuracy params\n",
    "        self.epoch_array = []\n",
    "        self.loss_array = []\n",
    "        self.accuracy_array = []\n",
    "        \n",
    "    def forward(self, x):\n",
    "        # Forward pass\n",
    "        self.hidden_input = np.dot(x, self.weights_input_hidden) + self.bias_hidden\n",
    "        self.hidden_output = sigmoid(self.hidden_input)\n",
    "        \n",
    "        self.output_input = np.dot(self.hidden_output, self.weights_hidden_output) + self.bias_output\n",
    "        self.output = sigmoid(self.output_input)\n",
    "        \n",
    "        return self.output\n",
    "    \n",
    "    def backward(self, x, y, output, learning_rate):\n",
    "        # Backpropagation\n",
    "        error = y - output\n",
    "        \n",
    "        output_delta = error * sigmoid_derivative(output)\n",
    "        hidden_error = np.dot(output_delta, self.weights_hidden_output.T)\n",
    "        hidden_delta = hidden_error * sigmoid_derivative(self.hidden_output)\n",
    "        \n",
    "        self.weights_hidden_output += learning_rate * np.dot(self.hidden_output.T, output_delta)\n",
    "        self.bias_output += learning_rate * np.sum(output_delta, axis=0, keepdims=True)\n",
    "        \n",
    "        self.weights_input_hidden += learning_rate * np.dot(x.T, hidden_delta)\n",
    "        self.bias_hidden += learning_rate * np.sum(hidden_delta, axis=0, keepdims=True)\n",
    "        \n",
    "    def train(self, x, y, epochs, learning_rate):\n",
    "        for epoch in range(epochs):\n",
    "            for i in range(0,len(x),32):\n",
    "                # Forward pass\n",
    "                input_data = x[i:i+32]\n",
    "                target = y[i:i+32]\n",
    "                output = self.forward(input_data)\n",
    "\n",
    "                # Backward pass\n",
    "                self.backward(input_data, target, output, learning_rate)\n",
    "\n",
    "            loss = np.mean(np.square(y - self.forward(x)))\n",
    "            print(f'Epoch {epoch}: Loss = {loss}')\n",
    "            self.epoch_array.append(epoch)\n",
    "            self.loss_array.append(loss)\n",
    "            predictions = nn.forward(test_images)\n",
    "            self.accuracy_array.append(np.mean(np.argmax(predictions, axis=1) == np.argmax(test_labels, axis=1)) * 100)"
   ]
  },
  {
   "cell_type": "code",
   "execution_count": 17,
   "metadata": {},
   "outputs": [],
   "source": [
    "input_size = 784  # 28*28\n",
    "hidden_size = 32\n",
    "output_size = 26"
   ]
  },
  {
   "cell_type": "code",
   "execution_count": 18,
   "metadata": {},
   "outputs": [],
   "source": [
    "nn = NeuralNetwork(input_size, hidden_size, output_size)"
   ]
  },
  {
   "cell_type": "code",
   "execution_count": 19,
   "metadata": {},
   "outputs": [
    {
     "name": "stdout",
     "output_type": "stream",
     "text": [
      "Epoch 0: Loss = 0.01064311664916423\n",
      "Epoch 1: Loss = 0.00802901490040359\n",
      "Epoch 2: Loss = 0.007412803729935587\n",
      "Epoch 3: Loss = 0.006700402600196645\n",
      "Epoch 4: Loss = 0.006453211834837924\n",
      "Epoch 5: Loss = 0.006313283483947375\n",
      "Epoch 6: Loss = 0.006167858039923543\n",
      "Epoch 7: Loss = 0.005757731699024248\n",
      "Epoch 8: Loss = 0.005629289682895529\n",
      "Epoch 9: Loss = 0.005529888639580376\n",
      "Epoch 10: Loss = 0.005419921328927241\n",
      "Epoch 11: Loss = 0.005363205267971042\n",
      "Epoch 12: Loss = 0.005345400269573559\n",
      "Epoch 13: Loss = 0.005255285631122518\n",
      "Epoch 14: Loss = 0.005246173366532322\n",
      "Epoch 15: Loss = 0.005102169963040303\n",
      "Epoch 16: Loss = 0.0050814177910689165\n",
      "Epoch 17: Loss = 0.005040450066063784\n",
      "Epoch 18: Loss = 0.004981676739206356\n",
      "Epoch 19: Loss = 0.004960628282322685\n"
     ]
    }
   ],
   "source": [
    "nn.train(train_images, train_labels, epochs=20, learning_rate=0.1)"
   ]
  },
  {
   "cell_type": "code",
   "execution_count": 20,
   "metadata": {},
   "outputs": [
    {
     "data": {
      "text/plain": [
       "<function matplotlib.pyplot.show(close=None, block=None)>"
      ]
     },
     "execution_count": 20,
     "metadata": {},
     "output_type": "execute_result"
    },
    {
     "data": {
      "image/png": "[encoded data removed]",
      "text/plain": [
       "<Figure size 640x480 with 1 Axes>"
      ]
     },
     "metadata": {},
     "output_type": "display_data"
    }
   ],
   "source": [
    "plt.plot(nn.epoch_array, nn.loss_array, 'blue')\n",
    "plt.xlabel('Epoch')\n",
    "plt.ylabel('Loss')\n",
    "plt.title('Loss vs Epoch')\n",
    "plt.show"
   ]
  },
  {
   "cell_type": "code",
   "execution_count": 21,
   "metadata": {},
   "outputs": [
    {
     "data": {
      "text/plain": [
       "<function matplotlib.pyplot.show(close=None, block=None)>"
      ]
     },
     "execution_count": 21,
     "metadata": {},
     "output_type": "execute_result"
    },
    {
     "data": {
      "image/png": "[encoded data removed]",
      "text/plain": [
       "<Figure size 640x480 with 1 Axes>"
      ]
     },
     "metadata": {},
     "output_type": "display_data"
    }
   ],
   "source": [
    "plt.plot(nn.epoch_array, nn.accuracy_array, 'orange')\n",
    "plt.xlabel('Epoch')\n",
    "plt.ylabel('Accuracy')\n",
    "plt.title('Acurracy vs Epoch')\n",
    "plt.show"
   ]
  },
  {
   "cell_type": "code",
   "execution_count": 22,
   "metadata": {},
   "outputs": [
    {
     "name": "stdout",
     "output_type": "stream",
     "text": [
      "Accuracy: 91.63%\n"
     ]
    }
   ],
   "source": [
    "predictions = nn.forward(test_images)\n",
    "accuracy = np.mean(np.argmax(predictions, axis=1) == np.argmax(test_labels, axis=1)) * 100\n",
    "print(f'Accuracy: {accuracy:.2f}%')"
   ]
  },
  {
   "cell_type": "code",
   "execution_count": null,
   "metadata": {},
   "outputs": [],
   "source": [
    "# For saving weights and biases\n",
    "np.save('biases_hidden_file.npy', nn.bias_hidden)\n",
    "np.save('biases_output_file.npy', nn.bias_output)\n",
    "np.save('weights_input_hidden_file.npy', nn.weights_input_hidden)\n",
    "np.save('weights_hidden_output_file.npy', nn.weights_hidden_output)"
   ]
  },
  {
   "cell_type": "code",
   "execution_count": 74,
   "metadata": {},
   "outputs": [
    {
     "name": "stdout",
     "output_type": "stream",
     "text": [
      "Predicted Character:  A\n",
      "Predicted Character:  B\n",
      "Predicted Character:  C\n",
      "Predicted Character:  D\n",
      "Predicted Character:  E\n",
      "Predicted Character:  F\n",
      "Predicted Character:  G\n",
      "Predicted Character:  H\n",
      "Predicted Character:  I\n",
      "Predicted Character:  J\n",
      "Predicted Character:  K\n",
      "Predicted Character:  L\n",
      "Predicted Character:  M\n",
      "Predicted Character:  N\n",
      "Predicted Character:  O\n",
      "Predicted Character:  P\n",
      "Predicted Character:  Q\n",
      "Predicted Character:  R\n",
      "Predicted Character:  S\n",
      "Predicted Character:  T\n",
      "Predicted Character:  U\n",
      "Predicted Character:  V\n",
      "Predicted Character:  W\n",
      "Predicted Character:  X\n",
      "Predicted Character:  Y\n",
      "Predicted Character:  Z\n"
     ]
    }
   ],
   "source": [
    "for no in range(0,26):\n",
    "    image_path = './images/' + str(chr(65+no)) + '.jpg'\n",
    "    custom_image = cv2.imread(image_path, cv2.IMREAD_GRAYSCALE)\n",
    "    custom_image_resized = cv2.resize(custom_image, (28, 28)) # Resize to 28x28\n",
    "    custom_image_normalized = custom_image_resized.reshape((1, 28 * 28)) / 255  # Reshape and normalize\n",
    "    prediction = nn.forward(custom_image_normalized)\n",
    "    predicted = np.argmax(prediction)\n",
    "    predicted_char = chr(65 + predicted)\n",
    "    print(\"Predicted Character: \", predicted_char)"
   ]
  }
 ],
 "metadata": {
  "kernelspec": {
   "display_name": "base",
   "language": "python",
   "name": "python3"
  },
  "language_info": {
   "codemirror_mode": {
    "name": "ipython",
    "version": 3
   },
   "file_extension": ".py",
   "mimetype": "text/x-python",
   "name": "python",
   "nbconvert_exporter": "python",
   "pygments_lexer": "ipython3",
   "version": "3.11.7"
  }
 },
 "nbformat": 4,
 "nbformat_minor": 2
}
